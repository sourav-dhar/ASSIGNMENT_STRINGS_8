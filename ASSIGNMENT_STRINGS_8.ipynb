{
 "cells": [
  {
   "cell_type": "code",
   "execution_count": 1,
   "metadata": {},
   "outputs": [
    {
     "data": {
      "text/plain": [
       "231"
      ]
     },
     "execution_count": 1,
     "metadata": {},
     "output_type": "execute_result"
    }
   ],
   "source": [
    "#Q1:\n",
    "def minimumDeleteSum(s1, s2):\n",
    "    m, n = len(s1), len(s2)\n",
    "    \n",
    "    # Create a 2D array to store the DP values\n",
    "    dp = [[0] * (n + 1) for _ in range(m + 1)]\n",
    "    \n",
    "    # Fill in the DP array\n",
    "    for i in range(1, m + 1):\n",
    "        dp[i][0] = dp[i-1][0] + ord(s1[i-1])\n",
    "    for j in range(1, n + 1):\n",
    "        dp[0][j] = dp[0][j-1] + ord(s2[j-1])\n",
    "    \n",
    "    for i in range(1, m + 1):\n",
    "        for j in range(1, n + 1):\n",
    "            if s1[i-1] == s2[j-1]:\n",
    "                dp[i][j] = dp[i-1][j-1]\n",
    "            else:\n",
    "                dp[i][j] = min(dp[i-1][j] + ord(s1[i-1]), dp[i][j-1] + ord(s2[j-1]))\n",
    "    \n",
    "    return dp[m][n]\n",
    "\n",
    "#Example 1:\n",
    "\n",
    "s1 = \"sea\"\n",
    "s2 = \"eat\"\n",
    "minimumDeleteSum(s1, s2)\n",
    "\n"
   ]
  },
  {
   "cell_type": "code",
   "execution_count": 2,
   "metadata": {},
   "outputs": [
    {
     "data": {
      "text/plain": [
       "True"
      ]
     },
     "execution_count": 2,
     "metadata": {},
     "output_type": "execute_result"
    }
   ],
   "source": [
    "def checkValidString(s):\n",
    "    stack = []\n",
    "    asterisk_count = 0\n",
    "\n",
    "    for ch in s:\n",
    "        if ch == '(':\n",
    "            stack.append(ch)\n",
    "        elif ch == ')':\n",
    "            if stack:\n",
    "                stack.pop()\n",
    "            elif asterisk_count > 0:\n",
    "                asterisk_count -= 1\n",
    "            else:\n",
    "                return False\n",
    "        elif ch == '*':\n",
    "            asterisk_count += 1\n",
    "\n",
    "    while stack and asterisk_count > 0:\n",
    "        stack.pop()\n",
    "        asterisk_count -= 1\n",
    "\n",
    "    return len(stack) == 0\n",
    "\n",
    "#Example 1:\n",
    "\n",
    "s = \"()\"\n",
    "checkValidString(s)\n"
   ]
  },
  {
   "cell_type": "code",
   "execution_count": 3,
   "metadata": {},
   "outputs": [
    {
     "data": {
      "text/plain": [
       "2"
      ]
     },
     "execution_count": 3,
     "metadata": {},
     "output_type": "execute_result"
    }
   ],
   "source": [
    "def minStepsToDelete(word1, word2):\n",
    "    m, n = len(word1), len(word2)\n",
    "\n",
    "    # Create a 2D array to store the DP values\n",
    "    dp = [[0] * (n + 1) for _ in range(m + 1)]\n",
    "\n",
    "    # Fill in the DP array\n",
    "    for i in range(1, m + 1):\n",
    "        for j in range(1, n + 1):\n",
    "            if word1[i-1] == word2[j-1]:\n",
    "                dp[i][j] = dp[i-1][j-1] + 1\n",
    "            else:\n",
    "                dp[i][j] = max(dp[i-1][j], dp[i][j-1])\n",
    "\n",
    "    lcs_length = dp[m][n]\n",
    "    total_length = m + n\n",
    "\n",
    "    return total_length - (2 * lcs_length)\n",
    "\n",
    "#Example 1:\n",
    "\n",
    "word1 = \"sea\"\n",
    "word2 = \"eat\"\n",
    "minStepsToDelete(word1, word2)"
   ]
  },
  {
   "cell_type": "code",
   "execution_count": 4,
   "metadata": {},
   "outputs": [
    {
     "data": {
      "text/plain": [
       "<__main__.TreeNode at 0x173c9210970>"
      ]
     },
     "execution_count": 4,
     "metadata": {},
     "output_type": "execute_result"
    }
   ],
   "source": [
    "class TreeNode:\n",
    "    def __init__(self, val=0, left=None, right=None):\n",
    "        self.val = val\n",
    "        self.left = left\n",
    "        self.right = right\n",
    "\n",
    "def str2tree(s):\n",
    "    if not s:\n",
    "        return None\n",
    "\n",
    "    # Find the first occurrence of '('\n",
    "    idx = s.find('(')\n",
    "\n",
    "    if idx == -1:\n",
    "        # No '(' found, so the entire string is the root value\n",
    "        return TreeNode(int(s))\n",
    "\n",
    "    # Extract the root value from the substring before '('\n",
    "    root_val = int(s[:idx])\n",
    "\n",
    "    # Count the number of opening and closing parentheses\n",
    "    count = 0\n",
    "    for i in range(idx, len(s)):\n",
    "        if s[i] == '(':\n",
    "            count += 1\n",
    "        elif s[i] == ')':\n",
    "            count -= 1\n",
    "\n",
    "        if count == 0:\n",
    "            # Found the matching closing parenthesis for the left child\n",
    "            left_substring = s[idx+1:i]\n",
    "            right_substring = s[i+2:-1] if i < len(s) - 1 else \"\"\n",
    "\n",
    "            # Recursively construct the left and right subtrees\n",
    "            left_child = str2tree(left_substring)\n",
    "            right_child = str2tree(right_substring)\n",
    "\n",
    "            # Create the root node with its children\n",
    "            return TreeNode(root_val, left_child, right_child)\n",
    "\n",
    "        \n",
    "        \n",
    "#Example_Input: \n",
    "s = \"4(2(3)(1))(6(5))\"\n",
    "str2tree(s)\n"
   ]
  },
  {
   "cell_type": "code",
   "execution_count": 5,
   "metadata": {},
   "outputs": [
    {
     "name": "stdout",
     "output_type": "stream",
     "text": [
      "[3, 2, 1, 4, 5, 6]\n"
     ]
    }
   ],
   "source": [
    "def inorderTraversal(root):\n",
    "    if root is None:\n",
    "        return []\n",
    "\n",
    "    result = []\n",
    "    stack = []\n",
    "    curr = root\n",
    "\n",
    "    while curr or stack:\n",
    "        while curr:\n",
    "            stack.append(curr)\n",
    "            curr = curr.left\n",
    "\n",
    "        curr = stack.pop()\n",
    "        result.append(curr.val)\n",
    "\n",
    "        curr = curr.right\n",
    "\n",
    "    return result\n",
    "\n",
    "# Example usage\n",
    "s = \"4(2(3)(1))(6(5))\"\n",
    "root = str2tree(s)\n",
    "output = inorderTraversal(root)\n",
    "print(output)\n"
   ]
  },
  {
   "cell_type": "code",
   "execution_count": 6,
   "metadata": {},
   "outputs": [
    {
     "data": {
      "text/plain": [
       "6"
      ]
     },
     "execution_count": 6,
     "metadata": {},
     "output_type": "execute_result"
    }
   ],
   "source": [
    "def compress(chars):\n",
    "    n = len(chars)\n",
    "    if n == 0:\n",
    "        return 0\n",
    "\n",
    "    write_idx = 0\n",
    "    count = 1\n",
    "\n",
    "    for i in range(1, n):\n",
    "        if chars[i] == chars[i - 1]:\n",
    "            count += 1\n",
    "        else:\n",
    "            chars[write_idx] = chars[i - 1]\n",
    "            write_idx += 1\n",
    "\n",
    "            if count > 1:\n",
    "                count_str = str(count)\n",
    "                for j in range(len(count_str)):\n",
    "                    chars[write_idx] = count_str[j]\n",
    "                    write_idx += 1\n",
    "\n",
    "            count = 1\n",
    "\n",
    "    chars[write_idx] = chars[n - 1]\n",
    "    write_idx += 1\n",
    "\n",
    "    if count > 1:\n",
    "        count_str = str(count)\n",
    "        for j in range(len(count_str)):\n",
    "            chars[write_idx] = count_str[j]\n",
    "            write_idx += 1\n",
    "\n",
    "    return write_idx\n",
    "\n",
    "\n",
    "#Example 1:\n",
    "\n",
    "chars = [\"a\",\"a\",\"b\",\"b\",\"c\",\"c\",\"c\"]\n",
    "compress(chars)\n"
   ]
  },
  {
   "cell_type": "code",
   "execution_count": 7,
   "metadata": {},
   "outputs": [
    {
     "data": {
      "text/plain": [
       "[0, 6]"
      ]
     },
     "execution_count": 7,
     "metadata": {},
     "output_type": "execute_result"
    }
   ],
   "source": [
    "from collections import Counter\n",
    "\n",
    "def findAnagrams(s, p):\n",
    "    result = []\n",
    "    window_size = len(p)\n",
    "    p_count = Counter(p)\n",
    "    window_count = Counter(s[:window_size])\n",
    "\n",
    "    if window_count == p_count:\n",
    "        result.append(0)\n",
    "\n",
    "    for i in range(1, len(s) - window_size + 1):\n",
    "        # Slide the window by removing the leftmost character\n",
    "        left_char = s[i - 1]\n",
    "        window_count[left_char] -= 1\n",
    "        if window_count[left_char] == 0:\n",
    "            del window_count[left_char]\n",
    "\n",
    "        # Add the rightmost character to the window\n",
    "        right_char = s[i + window_size - 1]\n",
    "        window_count[right_char] += 1\n",
    "\n",
    "        if window_count == p_count:\n",
    "            result.append(i)\n",
    "\n",
    "    return result\n",
    "\n",
    "\n",
    "##Example 1:\n",
    "\n",
    "s = \"cbaebabacd\"\n",
    "p = \"abc\"\n",
    "\n",
    "findAnagrams(s, p)"
   ]
  },
  {
   "cell_type": "code",
   "execution_count": 8,
   "metadata": {},
   "outputs": [
    {
     "data": {
      "text/plain": [
       "'aaabcbc'"
      ]
     },
     "execution_count": 8,
     "metadata": {},
     "output_type": "execute_result"
    }
   ],
   "source": [
    "def decodeString(s):\n",
    "    stack = []\n",
    "    curr_str = \"\"\n",
    "    curr_num = 0\n",
    "\n",
    "    for ch in s:\n",
    "        if ch.isdigit():\n",
    "            curr_num = curr_num * 10 + int(ch)\n",
    "        elif ch.isalpha():\n",
    "            curr_str += ch\n",
    "        elif ch == '[':\n",
    "            stack.append((curr_str, curr_num))\n",
    "            curr_str = \"\"\n",
    "            curr_num = 0\n",
    "        elif ch == ']':\n",
    "            prev_str, repeat_num = stack.pop()\n",
    "            curr_str = prev_str + curr_str * repeat_num\n",
    "\n",
    "    return curr_str\n",
    "\n",
    "\n",
    "#Example 1:\n",
    "\n",
    "s = \"3[a]2[bc]\"\n",
    "decodeString(s)"
   ]
  },
  {
   "cell_type": "code",
   "execution_count": 9,
   "metadata": {},
   "outputs": [
    {
     "data": {
      "text/plain": [
       "True"
      ]
     },
     "execution_count": 9,
     "metadata": {},
     "output_type": "execute_result"
    }
   ],
   "source": [
    "def buddyStrings(s, goal):\n",
    "    if len(s) != len(goal) or set(s) != set(goal):\n",
    "        return False\n",
    "\n",
    "    if s == goal:\n",
    "        return len(s) - len(set(s)) >= 1\n",
    "\n",
    "    diff_positions = []\n",
    "    for i in range(len(s)):\n",
    "        if s[i] != goal[i]:\n",
    "            diff_positions.append(i)\n",
    "\n",
    "    return len(diff_positions) == 2 and s[diff_positions[0]] == goal[diff_positions[1]] and s[diff_positions[1]] == goal[diff_positions[0]]\n",
    "\n",
    "#Example 1:\n",
    "\n",
    "s = \"ab\"\n",
    "goal = \"ba\"\n",
    "buddyStrings(s, goal)"
   ]
  },
  {
   "cell_type": "code",
   "execution_count": null,
   "metadata": {},
   "outputs": [],
   "source": []
  }
 ],
 "metadata": {
  "kernelspec": {
   "display_name": "Python 3",
   "language": "python",
   "name": "python3"
  },
  "language_info": {
   "codemirror_mode": {
    "name": "ipython",
    "version": 3
   },
   "file_extension": ".py",
   "mimetype": "text/x-python",
   "name": "python",
   "nbconvert_exporter": "python",
   "pygments_lexer": "ipython3",
   "version": "3.8.5"
  }
 },
 "nbformat": 4,
 "nbformat_minor": 4
}
